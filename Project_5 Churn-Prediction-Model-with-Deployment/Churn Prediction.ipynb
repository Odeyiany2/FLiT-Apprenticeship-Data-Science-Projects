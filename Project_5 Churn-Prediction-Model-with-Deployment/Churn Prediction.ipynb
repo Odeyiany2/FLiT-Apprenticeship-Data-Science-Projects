{
 "cells": [
  {
   "cell_type": "markdown",
   "id": "a9afc57b-8483-41b9-8e30-f5be89333fd4",
   "metadata": {},
   "source": [
    "# Churn Prediction for a Telecommunications Company"
   ]
  },
  {
   "cell_type": "markdown",
   "id": "f913065b-d278-4176-bd64-f25f20233bf3",
   "metadata": {},
   "source": [
    "Customer churn refers to a percentage of customers that stopped purchasing the goods or service of a company during a period of time [Learn More about Customer Churn](. In our case, we are dealing with a telecommunications company. The goal is to predict customers that will stop using the company's service."
   ]
  },
  {
   "cell_type": "markdown",
   "id": "fb83d079-c199-4a87-ac12-40ad860d67f8",
   "metadata": {},
   "source": [
    "## Importing the Necessary Libraries"
   ]
  },
  {
   "cell_type": "code",
   "execution_count": null,
   "id": "646923e3-8865-4ecd-82f5-3f7a958fa67e",
   "metadata": {},
   "outputs": [],
   "source": []
  },
  {
   "cell_type": "code",
   "execution_count": null,
   "id": "8a5bf292-9827-4704-8a59-7c4d5f278393",
   "metadata": {},
   "outputs": [],
   "source": []
  }
 ],
 "metadata": {
  "kernelspec": {
   "display_name": "Python 3 (ipykernel)",
   "language": "python",
   "name": "python3"
  },
  "language_info": {
   "codemirror_mode": {
    "name": "ipython",
    "version": 3
   },
   "file_extension": ".py",
   "mimetype": "text/x-python",
   "name": "python",
   "nbconvert_exporter": "python",
   "pygments_lexer": "ipython3",
   "version": "3.10.13"
  }
 },
 "nbformat": 4,
 "nbformat_minor": 5
}
