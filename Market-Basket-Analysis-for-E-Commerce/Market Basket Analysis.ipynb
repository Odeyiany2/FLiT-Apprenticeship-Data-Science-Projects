{
 "cells": [
  {
   "cell_type": "markdown",
   "id": "0f8701d1-f633-45fc-8f4f-53a7aa4f74fd",
   "metadata": {},
   "source": [
    "# Market Basket Analysis for E-Commerce"
   ]
  },
  {
   "cell_type": "markdown",
   "id": "c7ff2b69-f6df-405b-923b-553faee05d99",
   "metadata": {},
   "source": [
    "### Importing Necessary Libraries"
   ]
  },
  {
   "cell_type": "code",
   "execution_count": 2,
   "id": "42d8c7e5-6f86-425e-a116-9936551a75fd",
   "metadata": {},
   "outputs": [
    {
     "name": "stdout",
     "output_type": "stream",
     "text": [
      "Importation Complete\n"
     ]
    }
   ],
   "source": [
    "import pandas as pd\n",
    "import seaborn as sns\n",
    "import matplotlib.pyplot as plt\n",
    "import plotly.express as px\n",
    "print(\"Importation Complete\")"
   ]
  },
  {
   "cell_type": "markdown",
   "id": "3464e4ab-c1d3-42a1-90d3-b5d52019330b",
   "metadata": {},
   "source": [
    "### Data Exploration "
   ]
  },
  {
   "cell_type": "code",
   "execution_count": null,
   "id": "023be52e-ef88-4f89-8497-e670e579470a",
   "metadata": {},
   "outputs": [],
   "source": [
    "#importing the dataset\n",
    "df = pd.read_csv(\""
   ]
  }
 ],
 "metadata": {
  "kernelspec": {
   "display_name": "Python 3 (ipykernel)",
   "language": "python",
   "name": "python3"
  },
  "language_info": {
   "codemirror_mode": {
    "name": "ipython",
    "version": 3
   },
   "file_extension": ".py",
   "mimetype": "text/x-python",
   "name": "python",
   "nbconvert_exporter": "python",
   "pygments_lexer": "ipython3",
   "version": "3.10.8"
  }
 },
 "nbformat": 4,
 "nbformat_minor": 5
}
